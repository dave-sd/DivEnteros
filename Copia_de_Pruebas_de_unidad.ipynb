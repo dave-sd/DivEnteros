{
  "nbformat": 4,
  "nbformat_minor": 0,
  "metadata": {
    "colab": {
      "name": "Copia de Pruebas de unidad",
      "provenance": [],
      "include_colab_link": true
    },
    "kernelspec": {
      "name": "python3",
      "display_name": "Python 3"
    },
    "language_info": {
      "name": "python"
    }
  },
  "cells": [
    {
      "cell_type": "markdown",
      "metadata": {
        "id": "view-in-github",
        "colab_type": "text"
      },
      "source": [
        "<a href=\"https://colab.research.google.com/github/dave-sd/DivEnteros/blob/main/Copia_de_Pruebas_de_unidad.ipynb\" target=\"_parent\"><img src=\"https://colab.research.google.com/assets/colab-badge.svg\" alt=\"Open In Colab\"/></a>"
      ]
    },
    {
      "cell_type": "code",
      "execution_count": 21,
      "metadata": {
        "id": "Vbv4Q1WIzJGi"
      },
      "outputs": [],
      "source": [
        "import unittest"
      ]
    },
    {
      "cell_type": "code",
      "source": [
        "# Calculadora\n",
        "class Calculator:\n",
        "    def __init__(self):\n",
        "        pass\n",
        "\n",
        "    def add(self, a, b):\n",
        "        return a + b\n",
        "\n",
        "    def sub(self, a, b):\n",
        "        return a - b\n",
        "  \n",
        "    def mul(self, a, b):\n",
        "        return a * b\n",
        "\n",
        "    def div(self, a, b):\n",
        "        if b != 0:\n",
        "            return a // b"
      ],
      "metadata": {
        "id": "Bj2884KmzM0-"
      },
      "execution_count": 22,
      "outputs": []
    },
    {
      "cell_type": "code",
      "source": [
        "##Creacion prueba de unidad \n",
        "class TestCalculator(unittest.TestCase):\n",
        "    def test_div(self):\n",
        "        '''Test case function for division'''\n",
        "        self.calc = Calculator()\n",
        "        result = self.calc.div(5, 2)\n",
        "        print(\"Entero: \"+str(result))\n",
        "        #expected = 5\n",
        "        #self.assertEqual(result, expected)"
      ],
      "metadata": {
        "id": "BmO1ExRBzWRl"
      },
      "execution_count": 23,
      "outputs": []
    },
    {
      "cell_type": "code",
      "source": [
        "unittest.main(argv=[''], verbosity=2, exit=False)"
      ],
      "metadata": {
        "colab": {
          "base_uri": "https://localhost:8080/"
        },
        "id": "n0oF9ToCzolJ",
        "outputId": "b0cb2883-0148-44a1-da38-732c3a6675e2"
      },
      "execution_count": 24,
      "outputs": [
        {
          "output_type": "stream",
          "name": "stderr",
          "text": [
            "test_div (__main__.TestCalculator)\n",
            "Test case function for division ... "
          ]
        },
        {
          "output_type": "stream",
          "name": "stdout",
          "text": [
            "Entero: 2\n"
          ]
        },
        {
          "output_type": "stream",
          "name": "stderr",
          "text": [
            "ok\n",
            "\n",
            "----------------------------------------------------------------------\n",
            "Ran 1 test in 0.004s\n",
            "\n",
            "OK\n"
          ]
        },
        {
          "output_type": "execute_result",
          "data": {
            "text/plain": [
              "<unittest.main.TestProgram at 0x7f102f49cb90>"
            ]
          },
          "metadata": {},
          "execution_count": 24
        }
      ]
    }
  ]
}